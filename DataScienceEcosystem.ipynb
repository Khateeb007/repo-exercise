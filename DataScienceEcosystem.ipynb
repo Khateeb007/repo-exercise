{
 "cells": [
  {
   "cell_type": "markdown",
   "id": "c3a59dac-68dc-4596-8908-28733f3c0266",
   "metadata": {},
   "source": [
    "# Data Science Tools and Ecosystem"
   ]
  },
  {
   "cell_type": "markdown",
   "id": "6e040525-db22-4ce6-930d-3a8ad0de2bfa",
   "metadata": {},
   "source": [
    "In this notebook, Data Science Tools and Ecosystem are summarized."
   ]
  },
  {
   "cell_type": "markdown",
   "id": "ad4200b8-ae38-4bcd-9a7b-2f138898e394",
   "metadata": {},
   "source": [
    "Some of the popular languages that Data Scientists use are:\n",
    "1. html\n",
    "2. php\n",
    "3. js"
   ]
  },
  {
   "cell_type": "markdown",
   "id": "7efa8444-3def-468f-b33f-29bf95b059a8",
   "metadata": {},
   "source": [
    "Some of the commonly used libraries used by Data Scientists include:\n",
    "1. Pandas\n",
    "2. Numpy\n",
    "3. Dask"
   ]
  },
  {
   "cell_type": "markdown",
   "id": "7b4688a1-a5a4-4493-83f1-84a04de6d0e5",
   "metadata": {},
   "source": [
    "|Data Science Tools|\n",
    "|--------------------|\n",
    "|pyspark|\n",
    "|hadoop|\n",
    "|prophet|"
   ]
  },
  {
   "cell_type": "markdown",
   "id": "69089c2a-3c5d-47f5-8065-606f1bdb7d06",
   "metadata": {},
   "source": [
    "### Below are a few examples of evaluating arithmetic expressions in Python\n",
    "5+3"
   ]
  },
  {
   "cell_type": "code",
   "execution_count": 16,
   "id": "50317ae6-5ef9-472b-852f-29d3f8edc64c",
   "metadata": {},
   "outputs": [
    {
     "data": {
      "text/plain": [
       "17"
      ]
     },
     "execution_count": 16,
     "metadata": {},
     "output_type": "execute_result"
    }
   ],
   "source": [
    "(3*4)+5\n"
   ]
  },
  {
   "cell_type": "code",
   "execution_count": 20,
   "id": "2522ec98-c6fd-4669-a9e5-322f7a95645c",
   "metadata": {},
   "outputs": [
    {
     "data": {
      "text/plain": [
       "17"
      ]
     },
     "execution_count": 20,
     "metadata": {},
     "output_type": "execute_result"
    }
   ],
   "source": [
    "#This a simple arithmetic expression to mutiply then add integers\n",
    "(3*4)+5"
   ]
  },
  {
   "cell_type": "code",
   "execution_count": 28,
   "id": "b6a7aef7-60a9-44c5-9c42-208839ccdb1e",
   "metadata": {},
   "outputs": [
    {
     "data": {
      "text/plain": [
       "3.3333333333333335"
      ]
     },
     "execution_count": 28,
     "metadata": {},
     "output_type": "execute_result"
    }
   ],
   "source": [
    "#This will convert 200 minutes to hours by diving by 60\n",
    "\n",
    "200/60"
   ]
  },
  {
   "cell_type": "markdown",
   "id": "f80f11ef-477b-4a81-80b5-d61fec281781",
   "metadata": {},
   "source": [
    "**Objectives:**\n",
    "* List popular languages for Data Science\n",
    "* Name some of the commonly used libraries used by Data Scientists\n",
    "* Outline at least three Data Science Tools"
   ]
  },
  {
   "cell_type": "markdown",
   "id": "bc547735-e681-4485-a537-f8028889e985",
   "metadata": {},
   "source": [
    "## Author\n",
    "Dr. Khateeb Ahmed Khan"
   ]
  },
  {
   "cell_type": "code",
   "execution_count": null,
   "id": "d6cd3463-007a-48bf-a109-e4da02a62a9a",
   "metadata": {},
   "outputs": [],
   "source": []
  }
 ],
 "metadata": {
  "kernelspec": {
   "display_name": "Python [conda env:base] *",
   "language": "python",
   "name": "conda-base-py"
  },
  "language_info": {
   "codemirror_mode": {
    "name": "ipython",
    "version": 3
   },
   "file_extension": ".py",
   "mimetype": "text/x-python",
   "name": "python",
   "nbconvert_exporter": "python",
   "pygments_lexer": "ipython3",
   "version": "3.12.7"
  }
 },
 "nbformat": 4,
 "nbformat_minor": 5
}
